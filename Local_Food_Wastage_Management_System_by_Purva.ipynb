{
 "cells": [
  {
   "cell_type": "markdown",
   "id": "e83141e7",
   "metadata": {},
   "source": [
    "# Project Name :- Local Food Wastage Management System"
   ]
  },
  {
   "cell_type": "markdown",
   "id": "4f571fea",
   "metadata": {},
   "source": [
    "#### Name             :- Purva Rajan Dhadve (1st August Batch)\n",
    "#### Type               :- \n",
    "#### Contribution  :- Individual"
   ]
  },
  {
   "cell_type": "markdown",
   "id": "3212b446",
   "metadata": {},
   "source": [
    "# Project Summary"
   ]
  },
  {
   "cell_type": "markdown",
   "id": "3594f61a",
   "metadata": {},
   "source": [
    "Food wastage has become a critical issue worldwide, leading to not only economic loss but also ethical and environmental concerns. The Food Wastage Management System is designed to address this problem by providing a digital platform that connects food providers (restaurants, hotels, canteens, households) with receivers (NGOs, food banks, needy individuals).\n",
    "\n",
    "The system enables providers to register surplus food items and make them visible to potential receivers in real time. Receivers can view availability based on location, quality, and quantity, and request food accordingly. This ensures that edible food is not wasted but rather redirected to those in need."
   ]
  },
  {
   "cell_type": "markdown",
   "id": "32e3b713",
   "metadata": {},
   "source": [
    "# Github Link"
   ]
  },
  {
   "cell_type": "code",
   "execution_count": null,
   "id": "a2c1cda1",
   "metadata": {},
   "outputs": [],
   "source": []
  },
  {
   "cell_type": "markdown",
   "id": "5955643c",
   "metadata": {},
   "source": [
    "# Problem Statement"
   ]
  },
  {
   "cell_type": "raw",
   "id": "c7bb1987",
   "metadata": {},
   "source": [
    "Food wastage is a significant issue, with many households and restaurants discarding surplus food while numerous people struggle with food insecurity. This project aims to develop a Local Food Wastage Management System, where:\n",
    "●\tRestaurants and individuals can list surplus food.\n",
    "●\tNGOs or individuals in need can claim the food.\n",
    "●\tSQL stores available food details and locations.\n",
    "●\tA Streamlit app enables interaction, filtering, CRUD operation and visualization. \n"
   ]
  },
  {
   "cell_type": "markdown",
   "id": "674cb51e",
   "metadata": {},
   "source": [
    "## Import Necessary Libraries"
   ]
  },
  {
   "cell_type": "code",
   "execution_count": 1,
   "id": "fb63a5ea",
   "metadata": {},
   "outputs": [],
   "source": [
    "import pandas as pd\n",
    "import sqlite3\n",
    "import matplotlib.pyplot as plt\n",
    "\n",
    "# Make plots display nicely inside jupyter\n",
    "%matplotlib inline"
   ]
  },
  {
   "cell_type": "markdown",
   "id": "c9fc5d23",
   "metadata": {},
   "source": [
    "##  Load CSV files"
   ]
  },
  {
   "cell_type": "code",
   "execution_count": 2,
   "id": "29b72087",
   "metadata": {},
   "outputs": [],
   "source": [
    "# Load all four datasets\n",
    "providers = pd.read_csv(\"providers_data.csv\")\n",
    "receivers = pd.read_csv(\"receivers_data.csv\")\n",
    "food_listing = pd.read_csv(\"food_listings_data.csv\")\n",
    "claims = pd.read_csv(\"claims_data.csv\")"
   ]
  },
  {
   "cell_type": "markdown",
   "id": "85a82839",
   "metadata": {},
   "source": [
    "## Datasets first view"
   ]
  },
  {
   "cell_type": "code",
   "execution_count": 3,
   "id": "12a4638b",
   "metadata": {},
   "outputs": [
    {
     "name": "stdout",
     "output_type": "stream",
     "text": [
      "Providers:\n"
     ]
    },
    {
     "data": {
      "text/html": [
       "<div>\n",
       "<style scoped>\n",
       "    .dataframe tbody tr th:only-of-type {\n",
       "        vertical-align: middle;\n",
       "    }\n",
       "\n",
       "    .dataframe tbody tr th {\n",
       "        vertical-align: top;\n",
       "    }\n",
       "\n",
       "    .dataframe thead th {\n",
       "        text-align: right;\n",
       "    }\n",
       "</style>\n",
       "<table border=\"1\" class=\"dataframe\">\n",
       "  <thead>\n",
       "    <tr style=\"text-align: right;\">\n",
       "      <th></th>\n",
       "      <th>Provider_ID</th>\n",
       "      <th>Name</th>\n",
       "      <th>Type</th>\n",
       "      <th>Address</th>\n",
       "      <th>City</th>\n",
       "      <th>Contact</th>\n",
       "    </tr>\n",
       "  </thead>\n",
       "  <tbody>\n",
       "    <tr>\n",
       "      <th>0</th>\n",
       "      <td>1</td>\n",
       "      <td>Gonzales-Cochran</td>\n",
       "      <td>Supermarket</td>\n",
       "      <td>74347 Christopher Extensions\\nAndreamouth, OK ...</td>\n",
       "      <td>New Jessica</td>\n",
       "      <td>+1-600-220-0480</td>\n",
       "    </tr>\n",
       "    <tr>\n",
       "      <th>1</th>\n",
       "      <td>2</td>\n",
       "      <td>Nielsen, Johnson and Fuller</td>\n",
       "      <td>Grocery Store</td>\n",
       "      <td>91228 Hanson Stream\\nWelchtown, OR 27136</td>\n",
       "      <td>East Sheena</td>\n",
       "      <td>+1-925-283-8901x6297</td>\n",
       "    </tr>\n",
       "    <tr>\n",
       "      <th>2</th>\n",
       "      <td>3</td>\n",
       "      <td>Miller-Black</td>\n",
       "      <td>Supermarket</td>\n",
       "      <td>561 Martinez Point Suite 507\\nGuzmanchester, W...</td>\n",
       "      <td>Lake Jesusview</td>\n",
       "      <td>001-517-295-2206</td>\n",
       "    </tr>\n",
       "    <tr>\n",
       "      <th>3</th>\n",
       "      <td>4</td>\n",
       "      <td>Clark, Prince and Williams</td>\n",
       "      <td>Grocery Store</td>\n",
       "      <td>467 Bell Trail Suite 409\\nPort Jesus, IA 61188</td>\n",
       "      <td>Mendezmouth</td>\n",
       "      <td>556.944.8935x401</td>\n",
       "    </tr>\n",
       "    <tr>\n",
       "      <th>4</th>\n",
       "      <td>5</td>\n",
       "      <td>Coleman-Farley</td>\n",
       "      <td>Grocery Store</td>\n",
       "      <td>078 Matthew Creek Apt. 319\\nSaraborough, MA 53978</td>\n",
       "      <td>Valentineside</td>\n",
       "      <td>193.714.6577</td>\n",
       "    </tr>\n",
       "  </tbody>\n",
       "</table>\n",
       "</div>"
      ],
      "text/plain": [
       "   Provider_ID                         Name           Type  \\\n",
       "0            1             Gonzales-Cochran    Supermarket   \n",
       "1            2  Nielsen, Johnson and Fuller  Grocery Store   \n",
       "2            3                 Miller-Black    Supermarket   \n",
       "3            4   Clark, Prince and Williams  Grocery Store   \n",
       "4            5               Coleman-Farley  Grocery Store   \n",
       "\n",
       "                                             Address            City  \\\n",
       "0  74347 Christopher Extensions\\nAndreamouth, OK ...     New Jessica   \n",
       "1           91228 Hanson Stream\\nWelchtown, OR 27136     East Sheena   \n",
       "2  561 Martinez Point Suite 507\\nGuzmanchester, W...  Lake Jesusview   \n",
       "3     467 Bell Trail Suite 409\\nPort Jesus, IA 61188     Mendezmouth   \n",
       "4  078 Matthew Creek Apt. 319\\nSaraborough, MA 53978   Valentineside   \n",
       "\n",
       "                Contact  \n",
       "0       +1-600-220-0480  \n",
       "1  +1-925-283-8901x6297  \n",
       "2      001-517-295-2206  \n",
       "3      556.944.8935x401  \n",
       "4          193.714.6577  "
      ]
     },
     "execution_count": 3,
     "metadata": {},
     "output_type": "execute_result"
    }
   ],
   "source": [
    "print(\"Providers:\")\n",
    "providers.head()"
   ]
  },
  {
   "cell_type": "raw",
   "id": "4aef576b",
   "metadata": {},
   "source": [
    "### Dataset Description\n",
    "1. Providers Dataset\n",
    "The providers.csv file contains details of food providers who contribute surplus food to the system.\n",
    "●\tProvider_ID (Integer) – Unique identifier for each provider.\n",
    "●\tName (String) – Name of the food provider (e.g., restaurants, grocery stores, supermarkets).\n",
    "●\tType (String) – Category of provider (e.g., Restaurant, Grocery Store, Supermarket).\n",
    "●\tAddress (String) – Physical address of the provider.\n",
    "●\tCity (String) – City where the provider is located.\n",
    "●\tContact (String) – Contact information (e.g., phone number).\n"
   ]
  },
  {
   "cell_type": "code",
   "execution_count": 4,
   "id": "69c10eec",
   "metadata": {},
   "outputs": [
    {
     "name": "stdout",
     "output_type": "stream",
     "text": [
      "Receivers:\n"
     ]
    },
    {
     "data": {
      "text/html": [
       "<div>\n",
       "<style scoped>\n",
       "    .dataframe tbody tr th:only-of-type {\n",
       "        vertical-align: middle;\n",
       "    }\n",
       "\n",
       "    .dataframe tbody tr th {\n",
       "        vertical-align: top;\n",
       "    }\n",
       "\n",
       "    .dataframe thead th {\n",
       "        text-align: right;\n",
       "    }\n",
       "</style>\n",
       "<table border=\"1\" class=\"dataframe\">\n",
       "  <thead>\n",
       "    <tr style=\"text-align: right;\">\n",
       "      <th></th>\n",
       "      <th>Receiver_ID</th>\n",
       "      <th>Name</th>\n",
       "      <th>Type</th>\n",
       "      <th>City</th>\n",
       "      <th>Contact</th>\n",
       "    </tr>\n",
       "  </thead>\n",
       "  <tbody>\n",
       "    <tr>\n",
       "      <th>0</th>\n",
       "      <td>1</td>\n",
       "      <td>Donald Gomez</td>\n",
       "      <td>Shelter</td>\n",
       "      <td>Port Carlburgh</td>\n",
       "      <td>(955)922-5295</td>\n",
       "    </tr>\n",
       "    <tr>\n",
       "      <th>1</th>\n",
       "      <td>2</td>\n",
       "      <td>Laurie Ramos</td>\n",
       "      <td>Individual</td>\n",
       "      <td>Lewisburgh</td>\n",
       "      <td>761.042.1570</td>\n",
       "    </tr>\n",
       "    <tr>\n",
       "      <th>2</th>\n",
       "      <td>3</td>\n",
       "      <td>Ashley Mckee</td>\n",
       "      <td>NGO</td>\n",
       "      <td>South Randalltown</td>\n",
       "      <td>691-023-0094x856</td>\n",
       "    </tr>\n",
       "    <tr>\n",
       "      <th>3</th>\n",
       "      <td>4</td>\n",
       "      <td>Erika Rose</td>\n",
       "      <td>NGO</td>\n",
       "      <td>South Shaneville</td>\n",
       "      <td>8296491111</td>\n",
       "    </tr>\n",
       "    <tr>\n",
       "      <th>4</th>\n",
       "      <td>5</td>\n",
       "      <td>John Romero</td>\n",
       "      <td>Individual</td>\n",
       "      <td>Bakerport</td>\n",
       "      <td>067.491.0154</td>\n",
       "    </tr>\n",
       "  </tbody>\n",
       "</table>\n",
       "</div>"
      ],
      "text/plain": [
       "   Receiver_ID          Name        Type               City           Contact\n",
       "0            1  Donald Gomez     Shelter     Port Carlburgh     (955)922-5295\n",
       "1            2  Laurie Ramos  Individual         Lewisburgh      761.042.1570\n",
       "2            3  Ashley Mckee         NGO  South Randalltown  691-023-0094x856\n",
       "3            4    Erika Rose         NGO   South Shaneville        8296491111\n",
       "4            5   John Romero  Individual          Bakerport      067.491.0154"
      ]
     },
     "execution_count": 4,
     "metadata": {},
     "output_type": "execute_result"
    }
   ],
   "source": [
    "print(\"Receivers:\")\n",
    "receivers.head()"
   ]
  },
  {
   "cell_type": "raw",
   "id": "ec23b43e",
   "metadata": {},
   "source": [
    "### 2. Receivers Dataset\n",
    "The receivers.csv file contains details of individuals or organizations receiving food.\n",
    "●\tReceiver_ID (Integer) – Unique identifier for each receiver.\n",
    "●\tName (String) – Name of the receiver (individual or organization).\n",
    "●\tType (String) – Category of receiver (e.g., NGO, Community Center, Individual).\n",
    "●\tCity (String) – City where the receiver is located.\n",
    "●\tContact (String) – Contact details (e.g., phone number).\n"
   ]
  },
  {
   "cell_type": "code",
   "execution_count": 5,
   "id": "12950650",
   "metadata": {},
   "outputs": [
    {
     "name": "stdout",
     "output_type": "stream",
     "text": [
      "Food Listing:\n"
     ]
    },
    {
     "data": {
      "text/html": [
       "<div>\n",
       "<style scoped>\n",
       "    .dataframe tbody tr th:only-of-type {\n",
       "        vertical-align: middle;\n",
       "    }\n",
       "\n",
       "    .dataframe tbody tr th {\n",
       "        vertical-align: top;\n",
       "    }\n",
       "\n",
       "    .dataframe thead th {\n",
       "        text-align: right;\n",
       "    }\n",
       "</style>\n",
       "<table border=\"1\" class=\"dataframe\">\n",
       "  <thead>\n",
       "    <tr style=\"text-align: right;\">\n",
       "      <th></th>\n",
       "      <th>Food_ID</th>\n",
       "      <th>Food_Name</th>\n",
       "      <th>Quantity</th>\n",
       "      <th>Expiry_Date</th>\n",
       "      <th>Provider_ID</th>\n",
       "      <th>Provider_Type</th>\n",
       "      <th>Location</th>\n",
       "      <th>Food_Type</th>\n",
       "      <th>Meal_Type</th>\n",
       "    </tr>\n",
       "  </thead>\n",
       "  <tbody>\n",
       "    <tr>\n",
       "      <th>0</th>\n",
       "      <td>1</td>\n",
       "      <td>Bread</td>\n",
       "      <td>43</td>\n",
       "      <td>3/17/2025</td>\n",
       "      <td>110</td>\n",
       "      <td>Grocery Store</td>\n",
       "      <td>South Kellyville</td>\n",
       "      <td>Non-Vegetarian</td>\n",
       "      <td>Breakfast</td>\n",
       "    </tr>\n",
       "    <tr>\n",
       "      <th>1</th>\n",
       "      <td>2</td>\n",
       "      <td>Soup</td>\n",
       "      <td>22</td>\n",
       "      <td>3/24/2025</td>\n",
       "      <td>791</td>\n",
       "      <td>Grocery Store</td>\n",
       "      <td>West James</td>\n",
       "      <td>Non-Vegetarian</td>\n",
       "      <td>Dinner</td>\n",
       "    </tr>\n",
       "    <tr>\n",
       "      <th>2</th>\n",
       "      <td>3</td>\n",
       "      <td>Fruits</td>\n",
       "      <td>46</td>\n",
       "      <td>3/28/2025</td>\n",
       "      <td>478</td>\n",
       "      <td>Catering Service</td>\n",
       "      <td>Lake Regina</td>\n",
       "      <td>Vegan</td>\n",
       "      <td>Breakfast</td>\n",
       "    </tr>\n",
       "    <tr>\n",
       "      <th>3</th>\n",
       "      <td>4</td>\n",
       "      <td>Fruits</td>\n",
       "      <td>15</td>\n",
       "      <td>3/16/2025</td>\n",
       "      <td>930</td>\n",
       "      <td>Restaurant</td>\n",
       "      <td>Kellytown</td>\n",
       "      <td>Vegan</td>\n",
       "      <td>Lunch</td>\n",
       "    </tr>\n",
       "    <tr>\n",
       "      <th>4</th>\n",
       "      <td>5</td>\n",
       "      <td>Soup</td>\n",
       "      <td>14</td>\n",
       "      <td>3/19/2025</td>\n",
       "      <td>279</td>\n",
       "      <td>Restaurant</td>\n",
       "      <td>Garciaport</td>\n",
       "      <td>Vegan</td>\n",
       "      <td>Dinner</td>\n",
       "    </tr>\n",
       "  </tbody>\n",
       "</table>\n",
       "</div>"
      ],
      "text/plain": [
       "   Food_ID Food_Name  Quantity Expiry_Date  Provider_ID     Provider_Type  \\\n",
       "0        1     Bread        43   3/17/2025          110     Grocery Store   \n",
       "1        2      Soup        22   3/24/2025          791     Grocery Store   \n",
       "2        3    Fruits        46   3/28/2025          478  Catering Service   \n",
       "3        4    Fruits        15   3/16/2025          930        Restaurant   \n",
       "4        5      Soup        14   3/19/2025          279        Restaurant   \n",
       "\n",
       "           Location       Food_Type  Meal_Type  \n",
       "0  South Kellyville  Non-Vegetarian  Breakfast  \n",
       "1        West James  Non-Vegetarian     Dinner  \n",
       "2       Lake Regina           Vegan  Breakfast  \n",
       "3         Kellytown           Vegan      Lunch  \n",
       "4        Garciaport           Vegan     Dinner  "
      ]
     },
     "execution_count": 5,
     "metadata": {},
     "output_type": "execute_result"
    }
   ],
   "source": [
    "print(\"Food Listing:\")\n",
    "food_listing.head()"
   ]
  },
  {
   "cell_type": "raw",
   "id": "7a83b30f",
   "metadata": {},
   "source": [
    "### 3. Food Listings Dataset\n",
    "The food_listings.csv file stores details of available food items that can be claimed by receivers.\n",
    "●\tFood_ID (Integer) – Unique identifier for each food item.\n",
    "●\tFood_Name (String) – Name of the food item.\n",
    "●\tQuantity (Integer) – Quantity available for distribution.\n",
    "●\tExpiry_Date (Date) – Expiry date of the food item.\n",
    "●\tProvider_ID (Integer) – Reference to the provider offering the food.\n",
    "●\tProvider_Type (String) – Type of provider offering the food.\n",
    "●\tLocation (String) – City where the food is available.\n",
    "●\tFood_Type (String) – Category of food (e.g., Vegetarian, Non-Vegetarian, Vegan).\n",
    "●\tMeal_Type (String) – Type of meal (e.g., Breakfast, Lunch, Dinner, Snacks).\n"
   ]
  },
  {
   "cell_type": "code",
   "execution_count": 6,
   "id": "2fa3aace",
   "metadata": {},
   "outputs": [
    {
     "name": "stdout",
     "output_type": "stream",
     "text": [
      "Claims:\n"
     ]
    },
    {
     "data": {
      "text/html": [
       "<div>\n",
       "<style scoped>\n",
       "    .dataframe tbody tr th:only-of-type {\n",
       "        vertical-align: middle;\n",
       "    }\n",
       "\n",
       "    .dataframe tbody tr th {\n",
       "        vertical-align: top;\n",
       "    }\n",
       "\n",
       "    .dataframe thead th {\n",
       "        text-align: right;\n",
       "    }\n",
       "</style>\n",
       "<table border=\"1\" class=\"dataframe\">\n",
       "  <thead>\n",
       "    <tr style=\"text-align: right;\">\n",
       "      <th></th>\n",
       "      <th>Claim_ID</th>\n",
       "      <th>Food_ID</th>\n",
       "      <th>Receiver_ID</th>\n",
       "      <th>Status</th>\n",
       "      <th>Timestamp</th>\n",
       "    </tr>\n",
       "  </thead>\n",
       "  <tbody>\n",
       "    <tr>\n",
       "      <th>0</th>\n",
       "      <td>1</td>\n",
       "      <td>164</td>\n",
       "      <td>908</td>\n",
       "      <td>Pending</td>\n",
       "      <td>3/5/2025 5:26</td>\n",
       "    </tr>\n",
       "    <tr>\n",
       "      <th>1</th>\n",
       "      <td>2</td>\n",
       "      <td>353</td>\n",
       "      <td>391</td>\n",
       "      <td>Cancelled</td>\n",
       "      <td>3/11/2025 10:24</td>\n",
       "    </tr>\n",
       "    <tr>\n",
       "      <th>2</th>\n",
       "      <td>3</td>\n",
       "      <td>626</td>\n",
       "      <td>492</td>\n",
       "      <td>Completed</td>\n",
       "      <td>3/21/2025 0:59</td>\n",
       "    </tr>\n",
       "    <tr>\n",
       "      <th>3</th>\n",
       "      <td>4</td>\n",
       "      <td>61</td>\n",
       "      <td>933</td>\n",
       "      <td>Cancelled</td>\n",
       "      <td>3/4/2025 9:08</td>\n",
       "    </tr>\n",
       "    <tr>\n",
       "      <th>4</th>\n",
       "      <td>5</td>\n",
       "      <td>345</td>\n",
       "      <td>229</td>\n",
       "      <td>Pending</td>\n",
       "      <td>3/14/2025 15:17</td>\n",
       "    </tr>\n",
       "  </tbody>\n",
       "</table>\n",
       "</div>"
      ],
      "text/plain": [
       "   Claim_ID  Food_ID  Receiver_ID     Status        Timestamp\n",
       "0         1      164          908    Pending    3/5/2025 5:26\n",
       "1         2      353          391  Cancelled  3/11/2025 10:24\n",
       "2         3      626          492  Completed   3/21/2025 0:59\n",
       "3         4       61          933  Cancelled    3/4/2025 9:08\n",
       "4         5      345          229    Pending  3/14/2025 15:17"
      ]
     },
     "execution_count": 6,
     "metadata": {},
     "output_type": "execute_result"
    }
   ],
   "source": [
    "print(\"Claims:\")\n",
    "claims.head()"
   ]
  },
  {
   "cell_type": "raw",
   "id": "7c5a9ffe",
   "metadata": {},
   "source": [
    "### 4. Claims Dataset\n",
    "The claims.csv file tracks food claims made by receivers.\n",
    "●\tClaim_ID (Integer) – Unique identifier for each claim.\n",
    "●\tFood_ID (Integer) – Reference to the food item being claimed.\n",
    "●\tReceiver_ID (Integer) – Reference to the receiver claiming the food.\n",
    "●\tStatus (String) – Current status of the claim (e.g., Pending, Completed, Cancelled).\n",
    "●\tTimestamp (Datetime) – Date and time when the claim was made."
   ]
  },
  {
   "cell_type": "markdown",
   "id": "94b3d27e",
   "metadata": {},
   "source": [
    "## Data Cleaning"
   ]
  },
  {
   "cell_type": "code",
   "execution_count": 7,
   "id": "1637647b",
   "metadata": {},
   "outputs": [],
   "source": [
    "# Drop duplicate rows for avoid double counting\n",
    "providers.drop_duplicates(inplace=True)\n",
    "receivers.drop_duplicates(inplace=True)\n",
    "food_listing.drop_duplicates(inplace=True)\n",
    "claims.drop_duplicates(inplace=True)"
   ]
  },
  {
   "cell_type": "code",
   "execution_count": 8,
   "id": "f3919482",
   "metadata": {},
   "outputs": [],
   "source": [
    "# Convert date columns\n",
    "food_listing[\"Expiry_Date\"] = pd.to_datetime(food_listing[\"Expiry_Date\"], errors=\"coerce\")\n",
    "claims[\"Timestamp\"] = pd.to_datetime(claims[\"Timestamp\"], errors=\"coerce\")"
   ]
  },
  {
   "cell_type": "code",
   "execution_count": 9,
   "id": "b31c44d8",
   "metadata": {},
   "outputs": [
    {
     "name": "stdout",
     "output_type": "stream",
     "text": [
      "0\n",
      "0\n",
      "0\n",
      "0\n"
     ]
    }
   ],
   "source": [
    "for df in[providers, receivers, food_listing, claims]:\n",
    "    print(df.isnull().sum().sum())"
   ]
  },
  {
   "cell_type": "code",
   "execution_count": 10,
   "id": "0db20cf3",
   "metadata": {},
   "outputs": [],
   "source": [
    "# Fill missing text feilds with empty string\n",
    "for df in[providers, receivers, food_listing, claims]:\n",
    "    for col in df.select_dtypes(include=\"object\").columns:\n",
    "        df[col] = df[col].astype(str).str.strip()"
   ]
  },
  {
   "cell_type": "markdown",
   "id": "627ba1be",
   "metadata": {},
   "source": [
    "## Create SQLite Database and Load Tables"
   ]
  },
  {
   "cell_type": "code",
   "execution_count": 11,
   "id": "3104dafe",
   "metadata": {},
   "outputs": [],
   "source": [
    "# Create SQLite DB in file\n",
    "conn = sqlite3.connect(\"food_waste.db\")"
   ]
  },
  {
   "cell_type": "code",
   "execution_count": 12,
   "id": "a8bae49c",
   "metadata": {},
   "outputs": [
    {
     "data": {
      "text/plain": [
       "1000"
      ]
     },
     "execution_count": 12,
     "metadata": {},
     "output_type": "execute_result"
    }
   ],
   "source": [
    "# Load DataFrames into SQL tables\n",
    "providers.to_sql(\"providers\", conn, if_exists=\"replace\", index=False)\n",
    "receivers.to_sql(\"receivers\", conn, if_exists=\"replace\", index=False)\n",
    "food_listing.to_sql(\"food_listing\",conn, if_exists=\"replace\",index=False)\n",
    "claims.to_sql(\"claims\", conn, if_exists=\"replace\", index=False)"
   ]
  },
  {
   "cell_type": "code",
   "execution_count": 13,
   "id": "40c6571b",
   "metadata": {},
   "outputs": [
    {
     "name": "stdout",
     "output_type": "stream",
     "text": [
      " Database created with 4 tables\n"
     ]
    }
   ],
   "source": [
    "print(\" Database created with 4 tables\")"
   ]
  },
  {
   "cell_type": "markdown",
   "id": "258ba59b",
   "metadata": {},
   "source": [
    "## Helper Function for Running Queries"
   ]
  },
  {
   "cell_type": "code",
   "execution_count": 14,
   "id": "c6727142",
   "metadata": {},
   "outputs": [],
   "source": [
    "def run_query(query, params=()):\n",
    "    '''Run SQL query and return Pandas Dataframe'''\n",
    "    return pd.read_sql_query(query, conn, params=params)"
   ]
  },
  {
   "cell_type": "markdown",
   "id": "659a8ea4",
   "metadata": {},
   "source": [
    "## Business Queries"
   ]
  },
  {
   "cell_type": "markdown",
   "id": "c238cb6a",
   "metadata": {},
   "source": [
    "### Food Providers & Receivers"
   ]
  },
  {
   "cell_type": "markdown",
   "id": "54c777dc",
   "metadata": {},
   "source": [
    "#### 1.How many food providers and receivers are there in each city?"
   ]
  },
  {
   "cell_type": "markdown",
   "id": "a07d2211",
   "metadata": {},
   "source": [
    "* 1. This shows which cities have the most providers and receivers.\n",
    "* 2. It helps balance supply and demand - if receivers are high but providers are low, more donations are needed there. "
   ]
  },
  {
   "cell_type": "code",
   "execution_count": 15,
   "id": "0489f181",
   "metadata": {},
   "outputs": [
    {
     "name": "stdout",
     "output_type": "stream",
     "text": [
      "Providers per City:\n"
     ]
    },
    {
     "data": {
      "text/html": [
       "<div>\n",
       "<style scoped>\n",
       "    .dataframe tbody tr th:only-of-type {\n",
       "        vertical-align: middle;\n",
       "    }\n",
       "\n",
       "    .dataframe tbody tr th {\n",
       "        vertical-align: top;\n",
       "    }\n",
       "\n",
       "    .dataframe thead th {\n",
       "        text-align: right;\n",
       "    }\n",
       "</style>\n",
       "<table border=\"1\" class=\"dataframe\">\n",
       "  <thead>\n",
       "    <tr style=\"text-align: right;\">\n",
       "      <th></th>\n",
       "      <th>City</th>\n",
       "      <th>Providers_Count</th>\n",
       "    </tr>\n",
       "  </thead>\n",
       "  <tbody>\n",
       "    <tr>\n",
       "      <th>0</th>\n",
       "      <td>South Christopherborough</td>\n",
       "      <td>3</td>\n",
       "    </tr>\n",
       "    <tr>\n",
       "      <th>1</th>\n",
       "      <td>New Carol</td>\n",
       "      <td>3</td>\n",
       "    </tr>\n",
       "    <tr>\n",
       "      <th>2</th>\n",
       "      <td>Williamview</td>\n",
       "      <td>2</td>\n",
       "    </tr>\n",
       "    <tr>\n",
       "      <th>3</th>\n",
       "      <td>West Lauraborough</td>\n",
       "      <td>2</td>\n",
       "    </tr>\n",
       "    <tr>\n",
       "      <th>4</th>\n",
       "      <td>West Christopher</td>\n",
       "      <td>2</td>\n",
       "    </tr>\n",
       "    <tr>\n",
       "      <th>...</th>\n",
       "      <td>...</td>\n",
       "      <td>...</td>\n",
       "    </tr>\n",
       "    <tr>\n",
       "      <th>958</th>\n",
       "      <td>Alexanderchester</td>\n",
       "      <td>1</td>\n",
       "    </tr>\n",
       "    <tr>\n",
       "      <th>959</th>\n",
       "      <td>Aguirreville</td>\n",
       "      <td>1</td>\n",
       "    </tr>\n",
       "    <tr>\n",
       "      <th>960</th>\n",
       "      <td>Adamsville</td>\n",
       "      <td>1</td>\n",
       "    </tr>\n",
       "    <tr>\n",
       "      <th>961</th>\n",
       "      <td>Adamsview</td>\n",
       "      <td>1</td>\n",
       "    </tr>\n",
       "    <tr>\n",
       "      <th>962</th>\n",
       "      <td>Adambury</td>\n",
       "      <td>1</td>\n",
       "    </tr>\n",
       "  </tbody>\n",
       "</table>\n",
       "<p>963 rows × 2 columns</p>\n",
       "</div>"
      ],
      "text/plain": [
       "                         City  Providers_Count\n",
       "0    South Christopherborough                3\n",
       "1                   New Carol                3\n",
       "2                 Williamview                2\n",
       "3           West Lauraborough                2\n",
       "4            West Christopher                2\n",
       "..                        ...              ...\n",
       "958          Alexanderchester                1\n",
       "959              Aguirreville                1\n",
       "960                Adamsville                1\n",
       "961                 Adamsview                1\n",
       "962                  Adambury                1\n",
       "\n",
       "[963 rows x 2 columns]"
      ]
     },
     "metadata": {},
     "output_type": "display_data"
    },
    {
     "name": "stdout",
     "output_type": "stream",
     "text": [
      "Providers per city:\n"
     ]
    },
    {
     "data": {
      "text/html": [
       "<div>\n",
       "<style scoped>\n",
       "    .dataframe tbody tr th:only-of-type {\n",
       "        vertical-align: middle;\n",
       "    }\n",
       "\n",
       "    .dataframe tbody tr th {\n",
       "        vertical-align: top;\n",
       "    }\n",
       "\n",
       "    .dataframe thead th {\n",
       "        text-align: right;\n",
       "    }\n",
       "</style>\n",
       "<table border=\"1\" class=\"dataframe\">\n",
       "  <thead>\n",
       "    <tr style=\"text-align: right;\">\n",
       "      <th></th>\n",
       "      <th>City</th>\n",
       "      <th>Receivers_Count</th>\n",
       "    </tr>\n",
       "  </thead>\n",
       "  <tbody>\n",
       "    <tr>\n",
       "      <th>0</th>\n",
       "      <td>New Christopher</td>\n",
       "      <td>3</td>\n",
       "    </tr>\n",
       "    <tr>\n",
       "      <th>1</th>\n",
       "      <td>Williamsfort</td>\n",
       "      <td>2</td>\n",
       "    </tr>\n",
       "    <tr>\n",
       "      <th>2</th>\n",
       "      <td>West Richard</td>\n",
       "      <td>2</td>\n",
       "    </tr>\n",
       "    <tr>\n",
       "      <th>3</th>\n",
       "      <td>West James</td>\n",
       "      <td>2</td>\n",
       "    </tr>\n",
       "    <tr>\n",
       "      <th>4</th>\n",
       "      <td>Stevenmouth</td>\n",
       "      <td>2</td>\n",
       "    </tr>\n",
       "    <tr>\n",
       "      <th>...</th>\n",
       "      <td>...</td>\n",
       "      <td>...</td>\n",
       "    </tr>\n",
       "    <tr>\n",
       "      <th>961</th>\n",
       "      <td>Alexanderbury</td>\n",
       "      <td>1</td>\n",
       "    </tr>\n",
       "    <tr>\n",
       "      <th>962</th>\n",
       "      <td>Aguilarstad</td>\n",
       "      <td>1</td>\n",
       "    </tr>\n",
       "    <tr>\n",
       "      <th>963</th>\n",
       "      <td>Aguilarbury</td>\n",
       "      <td>1</td>\n",
       "    </tr>\n",
       "    <tr>\n",
       "      <th>964</th>\n",
       "      <td>Adamland</td>\n",
       "      <td>1</td>\n",
       "    </tr>\n",
       "    <tr>\n",
       "      <th>965</th>\n",
       "      <td>Aaronshire</td>\n",
       "      <td>1</td>\n",
       "    </tr>\n",
       "  </tbody>\n",
       "</table>\n",
       "<p>966 rows × 2 columns</p>\n",
       "</div>"
      ],
      "text/plain": [
       "                City  Receivers_Count\n",
       "0    New Christopher                3\n",
       "1       Williamsfort                2\n",
       "2       West Richard                2\n",
       "3         West James                2\n",
       "4        Stevenmouth                2\n",
       "..               ...              ...\n",
       "961    Alexanderbury                1\n",
       "962      Aguilarstad                1\n",
       "963      Aguilarbury                1\n",
       "964         Adamland                1\n",
       "965       Aaronshire                1\n",
       "\n",
       "[966 rows x 2 columns]"
      ]
     },
     "metadata": {},
     "output_type": "display_data"
    }
   ],
   "source": [
    "# providers count per city\n",
    "qa='''\n",
    "SELECT City, COUNT(*) AS Providers_Count\n",
    "FROM providers\n",
    "GROUP BY City\n",
    "ORDER BY Providers_Count DESC\n",
    "'''\n",
    "print(\"Providers per City:\")\n",
    "display(run_query(qa))\n",
    "\n",
    "# Receivers count per city\n",
    "qb='''\n",
    "SELECT City, COUNT(*) AS Receivers_Count\n",
    "FROM receivers\n",
    "GROUP BY City\n",
    "ORDER BY Receivers_Count DESC\n",
    "'''\n",
    "print(\"Providers per city:\")\n",
    "display(run_query(qb))"
   ]
  },
  {
   "cell_type": "markdown",
   "id": "e7c4d9a2",
   "metadata": {},
   "source": [
    "#### 2.\tWhich type of food provider (restaurant, grocery store, etc.) contributes the most food?"
   ]
  },
  {
   "cell_type": "markdown",
   "id": "a46bade5",
   "metadata": {},
   "source": [
    "* 1.Identifying which type of provider(e.g., restaurants or stores) contributes most helps recognize key donors and encourage   other types to participate more"
   ]
  },
  {
   "cell_type": "code",
   "execution_count": 16,
   "id": "4b4e0af7",
   "metadata": {},
   "outputs": [
    {
     "name": "stdout",
     "output_type": "stream",
     "text": [
      "Provider type contribution:\n"
     ]
    },
    {
     "data": {
      "text/html": [
       "<div>\n",
       "<style scoped>\n",
       "    .dataframe tbody tr th:only-of-type {\n",
       "        vertical-align: middle;\n",
       "    }\n",
       "\n",
       "    .dataframe tbody tr th {\n",
       "        vertical-align: top;\n",
       "    }\n",
       "\n",
       "    .dataframe thead th {\n",
       "        text-align: right;\n",
       "    }\n",
       "</style>\n",
       "<table border=\"1\" class=\"dataframe\">\n",
       "  <thead>\n",
       "    <tr style=\"text-align: right;\">\n",
       "      <th></th>\n",
       "      <th>Provider_Type</th>\n",
       "      <th>food_listing</th>\n",
       "    </tr>\n",
       "  </thead>\n",
       "  <tbody>\n",
       "    <tr>\n",
       "      <th>0</th>\n",
       "      <td>Supermarket</td>\n",
       "      <td>267</td>\n",
       "    </tr>\n",
       "    <tr>\n",
       "      <th>1</th>\n",
       "      <td>Restaurant</td>\n",
       "      <td>258</td>\n",
       "    </tr>\n",
       "    <tr>\n",
       "      <th>2</th>\n",
       "      <td>Grocery Store</td>\n",
       "      <td>243</td>\n",
       "    </tr>\n",
       "    <tr>\n",
       "      <th>3</th>\n",
       "      <td>Catering Service</td>\n",
       "      <td>232</td>\n",
       "    </tr>\n",
       "  </tbody>\n",
       "</table>\n",
       "</div>"
      ],
      "text/plain": [
       "      Provider_Type  food_listing\n",
       "0       Supermarket           267\n",
       "1        Restaurant           258\n",
       "2     Grocery Store           243\n",
       "3  Catering Service           232"
      ]
     },
     "execution_count": 16,
     "metadata": {},
     "output_type": "execute_result"
    }
   ],
   "source": [
    "# Check provider_type column in food_listing\n",
    "q2 = '''\n",
    "SELECT Provider_Type, COUNT(*) AS food_listing\n",
    "FROM food_listing\n",
    "GROUP BY Provider_Type\n",
    "ORDER BY food_listing DESC\n",
    "'''\n",
    "print(\"Provider type contribution:\")\n",
    "run_query(q2)"
   ]
  },
  {
   "cell_type": "markdown",
   "id": "4b8c1fa9",
   "metadata": {},
   "source": [
    "#### 3.\tWhat is the contact information of food providers in a specific city?"
   ]
  },
  {
   "cell_type": "markdown",
   "id": "b5089585",
   "metadata": {},
   "source": [
    "* 1. Listing provider contact details makes it easier for receivers or NGOs to directly reach donors in their city"
   ]
  },
  {
   "cell_type": "code",
   "execution_count": 17,
   "id": "7ae19675",
   "metadata": {},
   "outputs": [
    {
     "name": "stdout",
     "output_type": "stream",
     "text": [
      "Provider contact in New Carol:\n"
     ]
    },
    {
     "data": {
      "text/html": [
       "<div>\n",
       "<style scoped>\n",
       "    .dataframe tbody tr th:only-of-type {\n",
       "        vertical-align: middle;\n",
       "    }\n",
       "\n",
       "    .dataframe tbody tr th {\n",
       "        vertical-align: top;\n",
       "    }\n",
       "\n",
       "    .dataframe thead th {\n",
       "        text-align: right;\n",
       "    }\n",
       "</style>\n",
       "<table border=\"1\" class=\"dataframe\">\n",
       "  <thead>\n",
       "    <tr style=\"text-align: right;\">\n",
       "      <th></th>\n",
       "      <th>Name</th>\n",
       "      <th>Provider_Type</th>\n",
       "      <th>Contact</th>\n",
       "    </tr>\n",
       "  </thead>\n",
       "  <tbody>\n",
       "    <tr>\n",
       "      <th>0</th>\n",
       "      <td>Bradford-Martinez</td>\n",
       "      <td>Supermarket</td>\n",
       "      <td>199.451.0254</td>\n",
       "    </tr>\n",
       "    <tr>\n",
       "      <th>1</th>\n",
       "      <td>Hammond LLC</td>\n",
       "      <td>Supermarket</td>\n",
       "      <td>001-324-482-4894</td>\n",
       "    </tr>\n",
       "    <tr>\n",
       "      <th>2</th>\n",
       "      <td>Hill-Russell</td>\n",
       "      <td>Grocery Store</td>\n",
       "      <td>075.630.9218</td>\n",
       "    </tr>\n",
       "  </tbody>\n",
       "</table>\n",
       "</div>"
      ],
      "text/plain": [
       "                Name  Provider_Type           Contact\n",
       "0  Bradford-Martinez    Supermarket      199.451.0254\n",
       "1        Hammond LLC    Supermarket  001-324-482-4894\n",
       "2       Hill-Russell  Grocery Store      075.630.9218"
      ]
     },
     "metadata": {},
     "output_type": "display_data"
    }
   ],
   "source": [
    "# Here i use a parameyerized query on \"New Carol\" city \n",
    "city = \"New Carol\"\n",
    "q3 = '''\n",
    "SELECT Name, Type AS Provider_Type, Contact\n",
    "FROM providers\n",
    "WHERE City = ?\n",
    "'''\n",
    "print(f\"Provider contact in {city}:\")\n",
    "display(run_query(q3, (city,)))"
   ]
  },
  {
   "cell_type": "markdown",
   "id": "c0adeab6",
   "metadata": {},
   "source": [
    "####  4.Which receivers have claimed the most food?"
   ]
  },
  {
   "cell_type": "markdown",
   "id": "7101ad9c",
   "metadata": {},
   "source": [
    "1. The most active receivers can be identified here.\n",
    "2. They may represent communities or NGOs that need extra support."
   ]
  },
  {
   "cell_type": "code",
   "execution_count": 18,
   "id": "dbb3c298",
   "metadata": {},
   "outputs": [
    {
     "name": "stdout",
     "output_type": "stream",
     "text": [
      "Top 10 receivers by number of claims:\n"
     ]
    },
    {
     "data": {
      "text/html": [
       "<div>\n",
       "<style scoped>\n",
       "    .dataframe tbody tr th:only-of-type {\n",
       "        vertical-align: middle;\n",
       "    }\n",
       "\n",
       "    .dataframe tbody tr th {\n",
       "        vertical-align: top;\n",
       "    }\n",
       "\n",
       "    .dataframe thead th {\n",
       "        text-align: right;\n",
       "    }\n",
       "</style>\n",
       "<table border=\"1\" class=\"dataframe\">\n",
       "  <thead>\n",
       "    <tr style=\"text-align: right;\">\n",
       "      <th></th>\n",
       "      <th>Receiver_Name</th>\n",
       "      <th>Total_Claims</th>\n",
       "    </tr>\n",
       "  </thead>\n",
       "  <tbody>\n",
       "    <tr>\n",
       "      <th>0</th>\n",
       "      <td>William Frederick</td>\n",
       "      <td>5</td>\n",
       "    </tr>\n",
       "    <tr>\n",
       "      <th>1</th>\n",
       "      <td>Scott Hunter</td>\n",
       "      <td>5</td>\n",
       "    </tr>\n",
       "    <tr>\n",
       "      <th>2</th>\n",
       "      <td>Matthew Webb</td>\n",
       "      <td>5</td>\n",
       "    </tr>\n",
       "    <tr>\n",
       "      <th>3</th>\n",
       "      <td>Anthony Garcia</td>\n",
       "      <td>5</td>\n",
       "    </tr>\n",
       "    <tr>\n",
       "      <th>4</th>\n",
       "      <td>Kristine Martin</td>\n",
       "      <td>4</td>\n",
       "    </tr>\n",
       "    <tr>\n",
       "      <th>5</th>\n",
       "      <td>Kristina Simpson</td>\n",
       "      <td>4</td>\n",
       "    </tr>\n",
       "    <tr>\n",
       "      <th>6</th>\n",
       "      <td>Jennifer Nelson</td>\n",
       "      <td>4</td>\n",
       "    </tr>\n",
       "    <tr>\n",
       "      <th>7</th>\n",
       "      <td>Donald Caldwell</td>\n",
       "      <td>4</td>\n",
       "    </tr>\n",
       "    <tr>\n",
       "      <th>8</th>\n",
       "      <td>Chelsea Powell</td>\n",
       "      <td>4</td>\n",
       "    </tr>\n",
       "    <tr>\n",
       "      <th>9</th>\n",
       "      <td>Betty Reid</td>\n",
       "      <td>4</td>\n",
       "    </tr>\n",
       "  </tbody>\n",
       "</table>\n",
       "</div>"
      ],
      "text/plain": [
       "       Receiver_Name  Total_Claims\n",
       "0  William Frederick             5\n",
       "1       Scott Hunter             5\n",
       "2       Matthew Webb             5\n",
       "3     Anthony Garcia             5\n",
       "4    Kristine Martin             4\n",
       "5   Kristina Simpson             4\n",
       "6    Jennifer Nelson             4\n",
       "7    Donald Caldwell             4\n",
       "8     Chelsea Powell             4\n",
       "9         Betty Reid             4"
      ]
     },
     "metadata": {},
     "output_type": "display_data"
    }
   ],
   "source": [
    "# Here i join claims with receivers to count claims per receiver\n",
    "q4 = '''\n",
    "SELECT r.Name AS Receiver_Name, COUNT(c.Claim_ID) AS Total_Claims\n",
    "FROM claims c\n",
    "JOIN receivers r ON c.Receiver_ID = r.Receiver_ID\n",
    "GROUP BY r.Name\n",
    "ORDER BY Total_Claims DESC\n",
    "LIMIT 10\n",
    "'''\n",
    "print(\"Top 10 receivers by number of claims:\")\n",
    "display(run_query(q4))"
   ]
  },
  {
   "cell_type": "markdown",
   "id": "4fbb9062",
   "metadata": {},
   "source": [
    "### Food Listings & Availability"
   ]
  },
  {
   "cell_type": "markdown",
   "id": "769e53b4",
   "metadata": {},
   "source": [
    "#### 5.What is the total quantity of food available from all providers?"
   ]
  },
  {
   "cell_type": "markdown",
   "id": "2b11e397",
   "metadata": {},
   "source": [
    "* 1.The total available quantity gives an idea of how much food is ready to be redistributed at any time."
   ]
  },
  {
   "cell_type": "code",
   "execution_count": 19,
   "id": "8116e4c2",
   "metadata": {},
   "outputs": [
    {
     "name": "stdout",
     "output_type": "stream",
     "text": [
      "Total food quantity available:\n"
     ]
    },
    {
     "data": {
      "text/html": [
       "<div>\n",
       "<style scoped>\n",
       "    .dataframe tbody tr th:only-of-type {\n",
       "        vertical-align: middle;\n",
       "    }\n",
       "\n",
       "    .dataframe tbody tr th {\n",
       "        vertical-align: top;\n",
       "    }\n",
       "\n",
       "    .dataframe thead th {\n",
       "        text-align: right;\n",
       "    }\n",
       "</style>\n",
       "<table border=\"1\" class=\"dataframe\">\n",
       "  <thead>\n",
       "    <tr style=\"text-align: right;\">\n",
       "      <th></th>\n",
       "      <th>Total_Quantity_Available</th>\n",
       "    </tr>\n",
       "  </thead>\n",
       "  <tbody>\n",
       "    <tr>\n",
       "      <th>0</th>\n",
       "      <td>25794</td>\n",
       "    </tr>\n",
       "  </tbody>\n",
       "</table>\n",
       "</div>"
      ],
      "text/plain": [
       "   Total_Quantity_Available\n",
       "0                     25794"
      ]
     },
     "metadata": {},
     "output_type": "display_data"
    }
   ],
   "source": [
    "# Here i sum the Quantity column in food_listing.\n",
    "q5 = '''\n",
    "SELECT SUM(Quantity) AS Total_Quantity_Available\n",
    "FROM food_listing\n",
    "'''\n",
    "print(\"Total food quantity available:\")\n",
    "display(run_query(q5))"
   ]
  },
  {
   "cell_type": "markdown",
   "id": "ba2b20f3",
   "metadata": {},
   "source": [
    "#### 6.Which city has the highest number of food listings?"
   ]
  },
  {
   "cell_type": "markdown",
   "id": "2056e074",
   "metadata": {},
   "source": [
    "  1. The city with most listings shows where donor activity is strongest.\n",
    "  2. Other cities with fewer listings may need more awareness campaigns."
   ]
  },
  {
   "cell_type": "code",
   "execution_count": 20,
   "id": "e897ec6d",
   "metadata": {},
   "outputs": [
    {
     "name": "stdout",
     "output_type": "stream",
     "text": [
      "Food listing per city\n"
     ]
    },
    {
     "data": {
      "text/html": [
       "<div>\n",
       "<style scoped>\n",
       "    .dataframe tbody tr th:only-of-type {\n",
       "        vertical-align: middle;\n",
       "    }\n",
       "\n",
       "    .dataframe tbody tr th {\n",
       "        vertical-align: top;\n",
       "    }\n",
       "\n",
       "    .dataframe thead th {\n",
       "        text-align: right;\n",
       "    }\n",
       "</style>\n",
       "<table border=\"1\" class=\"dataframe\">\n",
       "  <thead>\n",
       "    <tr style=\"text-align: right;\">\n",
       "      <th></th>\n",
       "      <th>City</th>\n",
       "      <th>Total_Listing</th>\n",
       "    </tr>\n",
       "  </thead>\n",
       "  <tbody>\n",
       "    <tr>\n",
       "      <th>0</th>\n",
       "      <td>South Kathryn</td>\n",
       "      <td>6</td>\n",
       "    </tr>\n",
       "    <tr>\n",
       "      <th>1</th>\n",
       "      <td>New Carol</td>\n",
       "      <td>6</td>\n",
       "    </tr>\n",
       "    <tr>\n",
       "      <th>2</th>\n",
       "      <td>Perezport</td>\n",
       "      <td>5</td>\n",
       "    </tr>\n",
       "    <tr>\n",
       "      <th>3</th>\n",
       "      <td>Jimmyberg</td>\n",
       "      <td>5</td>\n",
       "    </tr>\n",
       "    <tr>\n",
       "      <th>4</th>\n",
       "      <td>East Angela</td>\n",
       "      <td>5</td>\n",
       "    </tr>\n",
       "    <tr>\n",
       "      <th>...</th>\n",
       "      <td>...</td>\n",
       "      <td>...</td>\n",
       "    </tr>\n",
       "    <tr>\n",
       "      <th>619</th>\n",
       "      <td>Andersonmouth</td>\n",
       "      <td>1</td>\n",
       "    </tr>\n",
       "    <tr>\n",
       "      <th>620</th>\n",
       "      <td>Amandashire</td>\n",
       "      <td>1</td>\n",
       "    </tr>\n",
       "    <tr>\n",
       "      <th>621</th>\n",
       "      <td>Allenborough</td>\n",
       "      <td>1</td>\n",
       "    </tr>\n",
       "    <tr>\n",
       "      <th>622</th>\n",
       "      <td>Alexanderchester</td>\n",
       "      <td>1</td>\n",
       "    </tr>\n",
       "    <tr>\n",
       "      <th>623</th>\n",
       "      <td>Adambury</td>\n",
       "      <td>1</td>\n",
       "    </tr>\n",
       "  </tbody>\n",
       "</table>\n",
       "<p>624 rows × 2 columns</p>\n",
       "</div>"
      ],
      "text/plain": [
       "                 City  Total_Listing\n",
       "0       South Kathryn              6\n",
       "1           New Carol              6\n",
       "2           Perezport              5\n",
       "3           Jimmyberg              5\n",
       "4         East Angela              5\n",
       "..                ...            ...\n",
       "619     Andersonmouth              1\n",
       "620       Amandashire              1\n",
       "621      Allenborough              1\n",
       "622  Alexanderchester              1\n",
       "623          Adambury              1\n",
       "\n",
       "[624 rows x 2 columns]"
      ]
     },
     "metadata": {},
     "output_type": "display_data"
    }
   ],
   "source": [
    "q6 = '''\n",
    "SELECT Location AS City, COUNT(Food_ID) AS Total_Listing\n",
    "FROM food_listing\n",
    "GROUP BY Location\n",
    "ORDER BY Total_Listing DESC\n",
    "'''\n",
    "print(\"Food listing per city\")\n",
    "display(run_query(q6))"
   ]
  },
  {
   "cell_type": "markdown",
   "id": "4c6d56fb",
   "metadata": {},
   "source": [
    "#### 7.\tWhat are the most commonly available food types?"
   ]
  },
  {
   "cell_type": "markdown",
   "id": "b4f44d2f",
   "metadata": {},
   "source": [
    " 1. Knowing the most available food types helps receivers plan meals and also shows donation trends(e.g., vegetables,rice)."
   ]
  },
  {
   "cell_type": "code",
   "execution_count": 21,
   "id": "8849bdc1",
   "metadata": {},
   "outputs": [
    {
     "name": "stdout",
     "output_type": "stream",
     "text": [
      "Most common food types (top 10): \n"
     ]
    },
    {
     "data": {
      "text/html": [
       "<div>\n",
       "<style scoped>\n",
       "    .dataframe tbody tr th:only-of-type {\n",
       "        vertical-align: middle;\n",
       "    }\n",
       "\n",
       "    .dataframe tbody tr th {\n",
       "        vertical-align: top;\n",
       "    }\n",
       "\n",
       "    .dataframe thead th {\n",
       "        text-align: right;\n",
       "    }\n",
       "</style>\n",
       "<table border=\"1\" class=\"dataframe\">\n",
       "  <thead>\n",
       "    <tr style=\"text-align: right;\">\n",
       "      <th></th>\n",
       "      <th>Food_Type</th>\n",
       "      <th>Listing</th>\n",
       "    </tr>\n",
       "  </thead>\n",
       "  <tbody>\n",
       "    <tr>\n",
       "      <th>0</th>\n",
       "      <td>Vegetarian</td>\n",
       "      <td>336</td>\n",
       "    </tr>\n",
       "    <tr>\n",
       "      <th>1</th>\n",
       "      <td>Vegan</td>\n",
       "      <td>334</td>\n",
       "    </tr>\n",
       "    <tr>\n",
       "      <th>2</th>\n",
       "      <td>Non-Vegetarian</td>\n",
       "      <td>330</td>\n",
       "    </tr>\n",
       "  </tbody>\n",
       "</table>\n",
       "</div>"
      ],
      "text/plain": [
       "        Food_Type  Listing\n",
       "0      Vegetarian      336\n",
       "1           Vegan      334\n",
       "2  Non-Vegetarian      330"
      ]
     },
     "metadata": {},
     "output_type": "display_data"
    }
   ],
   "source": [
    "# here i group by Food_Type and count\n",
    "q7 = '''\n",
    "SELECT Food_Type, COUNT(*) AS Listing\n",
    "FROM food_listing\n",
    "GROUP BY Food_Type\n",
    "ORDER BY Listing DESC\n",
    "'''\n",
    "print(\"Most common food types (top 10): \")\n",
    "display(run_query(q7))"
   ]
  },
  {
   "cell_type": "markdown",
   "id": "8432e374",
   "metadata": {},
   "source": [
    "###  Claims & Distribution"
   ]
  },
  {
   "cell_type": "markdown",
   "id": "9164cd99",
   "metadata": {},
   "source": [
    "#### 8.How many food claims have been made for each food item?"
   ]
  },
  {
   "cell_type": "markdown",
   "id": "1e699fda",
   "metadata": {},
   "source": [
    "1. Food items with the most claims are in highest demand.\n",
    "2. This can guide providers on what food is most useful for donations."
   ]
  },
  {
   "cell_type": "code",
   "execution_count": 22,
   "id": "b2f65a72",
   "metadata": {},
   "outputs": [
    {
     "name": "stdout",
     "output_type": "stream",
     "text": [
      "Claims per food item: \n"
     ]
    },
    {
     "data": {
      "text/html": [
       "<div>\n",
       "<style scoped>\n",
       "    .dataframe tbody tr th:only-of-type {\n",
       "        vertical-align: middle;\n",
       "    }\n",
       "\n",
       "    .dataframe tbody tr th {\n",
       "        vertical-align: top;\n",
       "    }\n",
       "\n",
       "    .dataframe thead th {\n",
       "        text-align: right;\n",
       "    }\n",
       "</style>\n",
       "<table border=\"1\" class=\"dataframe\">\n",
       "  <thead>\n",
       "    <tr style=\"text-align: right;\">\n",
       "      <th></th>\n",
       "      <th>Food_Name</th>\n",
       "      <th>Total_Claims</th>\n",
       "    </tr>\n",
       "  </thead>\n",
       "  <tbody>\n",
       "    <tr>\n",
       "      <th>0</th>\n",
       "      <td>Rice</td>\n",
       "      <td>122</td>\n",
       "    </tr>\n",
       "    <tr>\n",
       "      <th>1</th>\n",
       "      <td>Soup</td>\n",
       "      <td>114</td>\n",
       "    </tr>\n",
       "    <tr>\n",
       "      <th>2</th>\n",
       "      <td>Dairy</td>\n",
       "      <td>110</td>\n",
       "    </tr>\n",
       "    <tr>\n",
       "      <th>3</th>\n",
       "      <td>Fish</td>\n",
       "      <td>108</td>\n",
       "    </tr>\n",
       "    <tr>\n",
       "      <th>4</th>\n",
       "      <td>Salad</td>\n",
       "      <td>106</td>\n",
       "    </tr>\n",
       "    <tr>\n",
       "      <th>5</th>\n",
       "      <td>Chicken</td>\n",
       "      <td>102</td>\n",
       "    </tr>\n",
       "    <tr>\n",
       "      <th>6</th>\n",
       "      <td>Bread</td>\n",
       "      <td>94</td>\n",
       "    </tr>\n",
       "    <tr>\n",
       "      <th>7</th>\n",
       "      <td>Pasta</td>\n",
       "      <td>87</td>\n",
       "    </tr>\n",
       "    <tr>\n",
       "      <th>8</th>\n",
       "      <td>Vegetables</td>\n",
       "      <td>86</td>\n",
       "    </tr>\n",
       "    <tr>\n",
       "      <th>9</th>\n",
       "      <td>Fruits</td>\n",
       "      <td>71</td>\n",
       "    </tr>\n",
       "  </tbody>\n",
       "</table>\n",
       "</div>"
      ],
      "text/plain": [
       "    Food_Name  Total_Claims\n",
       "0        Rice           122\n",
       "1        Soup           114\n",
       "2       Dairy           110\n",
       "3        Fish           108\n",
       "4       Salad           106\n",
       "5     Chicken           102\n",
       "6       Bread            94\n",
       "7       Pasta            87\n",
       "8  Vegetables            86\n",
       "9      Fruits            71"
      ]
     },
     "metadata": {},
     "output_type": "display_data"
    }
   ],
   "source": [
    "q8 = '''\n",
    "SELECT fl.Food_Name, COUNT(c.claim_ID) AS Total_Claims\n",
    "FROM food_listing fl\n",
    "LEFT JOIN claims c ON fl.Food_ID = c.Food_ID\n",
    "GROUP BY fl.Food_Name\n",
    "ORDER BY Total_Claims DESC\n",
    "'''\n",
    "print(\"Claims per food item: \")\n",
    "display(run_query(q8))"
   ]
  },
  {
   "cell_type": "markdown",
   "id": "f1272fba",
   "metadata": {},
   "source": [
    "#### 9. Which provider has had the highest number of successful food claims?"
   ]
  },
  {
   "cell_type": "markdown",
   "id": "c533a955",
   "metadata": {},
   "source": [
    "1. This shows which provider makes the biggest impact.\n",
    "2. They can be rewarded or recognized as role models for other donors."
   ]
  },
  {
   "cell_type": "code",
   "execution_count": 23,
   "id": "7c29122d",
   "metadata": {},
   "outputs": [
    {
     "name": "stdout",
     "output_type": "stream",
     "text": [
      "Provider with most successful claims:\n"
     ]
    },
    {
     "data": {
      "text/html": [
       "<div>\n",
       "<style scoped>\n",
       "    .dataframe tbody tr th:only-of-type {\n",
       "        vertical-align: middle;\n",
       "    }\n",
       "\n",
       "    .dataframe tbody tr th {\n",
       "        vertical-align: top;\n",
       "    }\n",
       "\n",
       "    .dataframe thead th {\n",
       "        text-align: right;\n",
       "    }\n",
       "</style>\n",
       "<table border=\"1\" class=\"dataframe\">\n",
       "  <thead>\n",
       "    <tr style=\"text-align: right;\">\n",
       "      <th></th>\n",
       "      <th>Provider</th>\n",
       "      <th>Successful_Claims</th>\n",
       "    </tr>\n",
       "  </thead>\n",
       "  <tbody>\n",
       "    <tr>\n",
       "      <th>0</th>\n",
       "      <td>Barry Group</td>\n",
       "      <td>5</td>\n",
       "    </tr>\n",
       "  </tbody>\n",
       "</table>\n",
       "</div>"
      ],
      "text/plain": [
       "      Provider  Successful_Claims\n",
       "0  Barry Group                  5"
      ]
     },
     "metadata": {},
     "output_type": "display_data"
    }
   ],
   "source": [
    "q9 = '''\n",
    "SELECT p.Name AS Provider, COUNT(*) AS Successful_Claims\n",
    "FROM claims c\n",
    "JOIN food_listing fl ON c.Food_ID = fl.Food_ID\n",
    "JOIN providers p ON p.Provider_ID = fl.Provider_ID\n",
    "WHERE LOWER(c.Status) = 'completed'\n",
    "GROUP BY p.Name\n",
    "ORDER BY Successful_Claims DESC\n",
    "LIMIT 1\n",
    "'''\n",
    "print(\"Provider with most successful claims:\")\n",
    "display(run_query(q9))"
   ]
  },
  {
   "cell_type": "markdown",
   "id": "435a4eea",
   "metadata": {},
   "source": [
    "#### 10. What percentage of food claims are completed vs. pending vs. canceled?"
   ]
  },
  {
   "cell_type": "markdown",
   "id": "4e82d148",
   "metadata": {},
   "source": [
    "1. The share of completed vs. pending vs. cancelled claims helps track system efficiency.\n",
    "2. A high pending/cancelled rate may delays or mismatches in supply-demand."
   ]
  },
  {
   "cell_type": "code",
   "execution_count": 24,
   "id": "9b4b45cc",
   "metadata": {},
   "outputs": [
    {
     "name": "stdout",
     "output_type": "stream",
     "text": [
      "✅ Claim status distribution:\n"
     ]
    },
    {
     "data": {
      "text/html": [
       "<div>\n",
       "<style scoped>\n",
       "    .dataframe tbody tr th:only-of-type {\n",
       "        vertical-align: middle;\n",
       "    }\n",
       "\n",
       "    .dataframe tbody tr th {\n",
       "        vertical-align: top;\n",
       "    }\n",
       "\n",
       "    .dataframe thead th {\n",
       "        text-align: right;\n",
       "    }\n",
       "</style>\n",
       "<table border=\"1\" class=\"dataframe\">\n",
       "  <thead>\n",
       "    <tr style=\"text-align: right;\">\n",
       "      <th></th>\n",
       "      <th>Status</th>\n",
       "      <th>Total_Claims</th>\n",
       "      <th>Percentage</th>\n",
       "    </tr>\n",
       "  </thead>\n",
       "  <tbody>\n",
       "    <tr>\n",
       "      <th>0</th>\n",
       "      <td>Completed</td>\n",
       "      <td>339</td>\n",
       "      <td>33.9</td>\n",
       "    </tr>\n",
       "    <tr>\n",
       "      <th>1</th>\n",
       "      <td>Cancelled</td>\n",
       "      <td>336</td>\n",
       "      <td>33.6</td>\n",
       "    </tr>\n",
       "    <tr>\n",
       "      <th>2</th>\n",
       "      <td>Pending</td>\n",
       "      <td>325</td>\n",
       "      <td>32.5</td>\n",
       "    </tr>\n",
       "  </tbody>\n",
       "</table>\n",
       "</div>"
      ],
      "text/plain": [
       "      Status  Total_Claims  Percentage\n",
       "0  Completed           339        33.9\n",
       "1  Cancelled           336        33.6\n",
       "2    Pending           325        32.5"
      ]
     },
     "metadata": {},
     "output_type": "display_data"
    }
   ],
   "source": [
    "q10 = \"\"\"\n",
    "SELECT Status, \n",
    "       COUNT(*) AS Total_Claims,\n",
    "       ROUND(100.0 * COUNT(*) / (SELECT COUNT(*) FROM claims), 2) AS Percentage\n",
    "FROM claims\n",
    "GROUP BY Status\n",
    "ORDER BY Total_Claims DESC\n",
    "\"\"\"\n",
    "print(\"✅ Claim status distribution:\")\n",
    "display(run_query(q10))"
   ]
  },
  {
   "cell_type": "markdown",
   "id": "1d45e25f",
   "metadata": {},
   "source": [
    "## Analysis & Insights"
   ]
  },
  {
   "cell_type": "markdown",
   "id": "8fd11956",
   "metadata": {},
   "source": [
    "#### 11. What is the average quantity of food claimed per receiver?"
   ]
  },
  {
   "cell_type": "markdown",
   "id": "04589d61",
   "metadata": {},
   "source": [
    "1. Some receivers claim larger quantities than others.\n",
    "2. This indicates where the need is greatest and helps manage fair distribution."
   ]
  },
  {
   "cell_type": "code",
   "execution_count": 25,
   "id": "89f0cc9d",
   "metadata": {},
   "outputs": [
    {
     "name": "stdout",
     "output_type": "stream",
     "text": [
      "Average food quantity claimed per receiver:\n"
     ]
    },
    {
     "data": {
      "text/html": [
       "<div>\n",
       "<style scoped>\n",
       "    .dataframe tbody tr th:only-of-type {\n",
       "        vertical-align: middle;\n",
       "    }\n",
       "\n",
       "    .dataframe tbody tr th {\n",
       "        vertical-align: top;\n",
       "    }\n",
       "\n",
       "    .dataframe thead th {\n",
       "        text-align: right;\n",
       "    }\n",
       "</style>\n",
       "<table border=\"1\" class=\"dataframe\">\n",
       "  <thead>\n",
       "    <tr style=\"text-align: right;\">\n",
       "      <th></th>\n",
       "      <th>Receiver_Name</th>\n",
       "      <th>Avg_Claimed_Quantity</th>\n",
       "    </tr>\n",
       "  </thead>\n",
       "  <tbody>\n",
       "    <tr>\n",
       "      <th>0</th>\n",
       "      <td>Thomas Villanueva</td>\n",
       "      <td>50.0</td>\n",
       "    </tr>\n",
       "    <tr>\n",
       "      <th>1</th>\n",
       "      <td>Peggy Knight</td>\n",
       "      <td>50.0</td>\n",
       "    </tr>\n",
       "    <tr>\n",
       "      <th>2</th>\n",
       "      <td>Nancy Silva</td>\n",
       "      <td>50.0</td>\n",
       "    </tr>\n",
       "    <tr>\n",
       "      <th>3</th>\n",
       "      <td>Nancy Jones</td>\n",
       "      <td>50.0</td>\n",
       "    </tr>\n",
       "    <tr>\n",
       "      <th>4</th>\n",
       "      <td>Lisa Pitts</td>\n",
       "      <td>50.0</td>\n",
       "    </tr>\n",
       "    <tr>\n",
       "      <th>...</th>\n",
       "      <td>...</td>\n",
       "      <td>...</td>\n",
       "    </tr>\n",
       "    <tr>\n",
       "      <th>615</th>\n",
       "      <td>Kenneth Barnes</td>\n",
       "      <td>2.0</td>\n",
       "    </tr>\n",
       "    <tr>\n",
       "      <th>616</th>\n",
       "      <td>John Reynolds</td>\n",
       "      <td>2.0</td>\n",
       "    </tr>\n",
       "    <tr>\n",
       "      <th>617</th>\n",
       "      <td>Corey Rodriguez</td>\n",
       "      <td>2.0</td>\n",
       "    </tr>\n",
       "    <tr>\n",
       "      <th>618</th>\n",
       "      <td>Joshua Hooper</td>\n",
       "      <td>1.0</td>\n",
       "    </tr>\n",
       "    <tr>\n",
       "      <th>619</th>\n",
       "      <td>Amanda Kline</td>\n",
       "      <td>1.0</td>\n",
       "    </tr>\n",
       "  </tbody>\n",
       "</table>\n",
       "<p>620 rows × 2 columns</p>\n",
       "</div>"
      ],
      "text/plain": [
       "         Receiver_Name  Avg_Claimed_Quantity\n",
       "0    Thomas Villanueva                  50.0\n",
       "1         Peggy Knight                  50.0\n",
       "2          Nancy Silva                  50.0\n",
       "3          Nancy Jones                  50.0\n",
       "4           Lisa Pitts                  50.0\n",
       "..                 ...                   ...\n",
       "615     Kenneth Barnes                   2.0\n",
       "616      John Reynolds                   2.0\n",
       "617    Corey Rodriguez                   2.0\n",
       "618      Joshua Hooper                   1.0\n",
       "619       Amanda Kline                   1.0\n",
       "\n",
       "[620 rows x 2 columns]"
      ]
     },
     "metadata": {},
     "output_type": "display_data"
    }
   ],
   "source": [
    "q11 = '''\n",
    "SELECT r.Name AS Receiver_Name, ROUND(AVG(fl.Quantity), 2) AS Avg_Claimed_Quantity\n",
    "FROM claims c\n",
    "JOIN receivers r ON c.Receiver_ID = r.Receiver_ID\n",
    "JOIN food_listing fl ON c.Food_ID = fl.Food_ID\n",
    "GROUP BY r.Name\n",
    "ORDER BY Avg_Claimed_Quantity DESC\n",
    "'''\n",
    "print(\"Average food quantity claimed per receiver:\")\n",
    "display(run_query(q11))"
   ]
  },
  {
   "cell_type": "markdown",
   "id": "89086c2e",
   "metadata": {},
   "source": [
    "#### 12. Which meal type (breakfast, lunch, dinner, snacks) is claimed the most?"
   ]
  },
  {
   "cell_type": "markdown",
   "id": "3a2f05e9",
   "metadata": {},
   "source": [
    "1. If dinner is claimed most, it suggests receivers prioritize evening meals.\n",
    "2. This helps providers plan which meals to donate more often."
   ]
  },
  {
   "cell_type": "code",
   "execution_count": 26,
   "id": "688aefe4",
   "metadata": {},
   "outputs": [
    {
     "name": "stdout",
     "output_type": "stream",
     "text": [
      "Claims by meal type:\n"
     ]
    },
    {
     "data": {
      "text/html": [
       "<div>\n",
       "<style scoped>\n",
       "    .dataframe tbody tr th:only-of-type {\n",
       "        vertical-align: middle;\n",
       "    }\n",
       "\n",
       "    .dataframe tbody tr th {\n",
       "        vertical-align: top;\n",
       "    }\n",
       "\n",
       "    .dataframe thead th {\n",
       "        text-align: right;\n",
       "    }\n",
       "</style>\n",
       "<table border=\"1\" class=\"dataframe\">\n",
       "  <thead>\n",
       "    <tr style=\"text-align: right;\">\n",
       "      <th></th>\n",
       "      <th>Meal_Type</th>\n",
       "      <th>Total_Claims</th>\n",
       "    </tr>\n",
       "  </thead>\n",
       "  <tbody>\n",
       "    <tr>\n",
       "      <th>0</th>\n",
       "      <td>Breakfast</td>\n",
       "      <td>278</td>\n",
       "    </tr>\n",
       "    <tr>\n",
       "      <th>1</th>\n",
       "      <td>Lunch</td>\n",
       "      <td>250</td>\n",
       "    </tr>\n",
       "    <tr>\n",
       "      <th>2</th>\n",
       "      <td>Snacks</td>\n",
       "      <td>240</td>\n",
       "    </tr>\n",
       "    <tr>\n",
       "      <th>3</th>\n",
       "      <td>Dinner</td>\n",
       "      <td>232</td>\n",
       "    </tr>\n",
       "  </tbody>\n",
       "</table>\n",
       "</div>"
      ],
      "text/plain": [
       "   Meal_Type  Total_Claims\n",
       "0  Breakfast           278\n",
       "1      Lunch           250\n",
       "2     Snacks           240\n",
       "3     Dinner           232"
      ]
     },
     "metadata": {},
     "output_type": "display_data"
    }
   ],
   "source": [
    "q12 = '''\n",
    "SELECT fl.Meal_Type, COUNT(*) AS Total_Claims\n",
    "FROM claims c\n",
    "JOIN food_listing fl ON c.Food_ID = fl.Food_ID\n",
    "GROUP BY fl.Meal_Type\n",
    "ORDER BY Total_Claims DESC\n",
    "'''\n",
    "print(\"Claims by meal type:\")\n",
    "display(run_query(q12))"
   ]
  },
  {
   "cell_type": "markdown",
   "id": "332b0902",
   "metadata": {},
   "source": [
    "####  13.What is the total quantity of food donated by each provider?"
   ]
  },
  {
   "cell_type": "markdown",
   "id": "de929ab8",
   "metadata": {},
   "source": [
    "1. This shows which providers donate the most food overall.\n",
    "2. It highlights top contributors and inspires others to increase their donations."
   ]
  },
  {
   "cell_type": "code",
   "execution_count": 27,
   "id": "cb440855",
   "metadata": {},
   "outputs": [
    {
     "name": "stdout",
     "output_type": "stream",
     "text": [
      "Total food donated by each provider:\n"
     ]
    },
    {
     "data": {
      "text/html": [
       "<div>\n",
       "<style scoped>\n",
       "    .dataframe tbody tr th:only-of-type {\n",
       "        vertical-align: middle;\n",
       "    }\n",
       "\n",
       "    .dataframe tbody tr th {\n",
       "        vertical-align: top;\n",
       "    }\n",
       "\n",
       "    .dataframe thead th {\n",
       "        text-align: right;\n",
       "    }\n",
       "</style>\n",
       "<table border=\"1\" class=\"dataframe\">\n",
       "  <thead>\n",
       "    <tr style=\"text-align: right;\">\n",
       "      <th></th>\n",
       "      <th>Provider</th>\n",
       "      <th>Total_Donated_Quantity</th>\n",
       "    </tr>\n",
       "  </thead>\n",
       "  <tbody>\n",
       "    <tr>\n",
       "      <th>0</th>\n",
       "      <td>Miller Inc</td>\n",
       "      <td>217</td>\n",
       "    </tr>\n",
       "    <tr>\n",
       "      <th>1</th>\n",
       "      <td>Barry Group</td>\n",
       "      <td>179</td>\n",
       "    </tr>\n",
       "    <tr>\n",
       "      <th>2</th>\n",
       "      <td>Evans, Wright and Mitchell</td>\n",
       "      <td>158</td>\n",
       "    </tr>\n",
       "    <tr>\n",
       "      <th>3</th>\n",
       "      <td>Smith Group</td>\n",
       "      <td>150</td>\n",
       "    </tr>\n",
       "    <tr>\n",
       "      <th>4</th>\n",
       "      <td>Campbell LLC</td>\n",
       "      <td>145</td>\n",
       "    </tr>\n",
       "    <tr>\n",
       "      <th>...</th>\n",
       "      <td>...</td>\n",
       "      <td>...</td>\n",
       "    </tr>\n",
       "    <tr>\n",
       "      <th>623</th>\n",
       "      <td>Reyes and Sons</td>\n",
       "      <td>1</td>\n",
       "    </tr>\n",
       "    <tr>\n",
       "      <th>624</th>\n",
       "      <td>Norris-Townsend</td>\n",
       "      <td>1</td>\n",
       "    </tr>\n",
       "    <tr>\n",
       "      <th>625</th>\n",
       "      <td>Mcgee PLC</td>\n",
       "      <td>1</td>\n",
       "    </tr>\n",
       "    <tr>\n",
       "      <th>626</th>\n",
       "      <td>Martinez, Armstrong and Carroll</td>\n",
       "      <td>1</td>\n",
       "    </tr>\n",
       "    <tr>\n",
       "      <th>627</th>\n",
       "      <td>Gonzales-Moore</td>\n",
       "      <td>1</td>\n",
       "    </tr>\n",
       "  </tbody>\n",
       "</table>\n",
       "<p>628 rows × 2 columns</p>\n",
       "</div>"
      ],
      "text/plain": [
       "                            Provider  Total_Donated_Quantity\n",
       "0                         Miller Inc                     217\n",
       "1                        Barry Group                     179\n",
       "2         Evans, Wright and Mitchell                     158\n",
       "3                        Smith Group                     150\n",
       "4                       Campbell LLC                     145\n",
       "..                               ...                     ...\n",
       "623                   Reyes and Sons                       1\n",
       "624                  Norris-Townsend                       1\n",
       "625                        Mcgee PLC                       1\n",
       "626  Martinez, Armstrong and Carroll                       1\n",
       "627                   Gonzales-Moore                       1\n",
       "\n",
       "[628 rows x 2 columns]"
      ]
     },
     "metadata": {},
     "output_type": "display_data"
    }
   ],
   "source": [
    "q13 = '''\n",
    "SELECT p.Name AS Provider, SUM(fl.Quantity) AS Total_Donated_Quantity\n",
    "From food_listing fl\n",
    "JOIN providers p ON fl.Provider_ID = p.Provider_ID\n",
    "GROUP BY p.Name\n",
    "ORDER BY Total_Donated_Quantity DESC\n",
    "'''\n",
    "print(\"Total food donated by each provider:\")\n",
    "display(run_query(q13))"
   ]
  },
  {
   "cell_type": "markdown",
   "id": "5a7ef30a",
   "metadata": {},
   "source": [
    "## CRUD Operations(Insert, Update, Delete)"
   ]
  },
  {
   "cell_type": "markdown",
   "id": "3486a5f4",
   "metadata": {},
   "source": [
    "### INSERT"
   ]
  },
  {
   "cell_type": "code",
   "execution_count": 28,
   "id": "e675771a",
   "metadata": {},
   "outputs": [],
   "source": [
    "# from this process we can modify data inside the database.\n",
    "# INSERT a new food listing\n",
    "conn.execute('''\n",
    "INSERT INTO food_listing\n",
    "(Food_ID, Food_Name, Quantity, Expiry_Date, Provider_ID, Provider_Type, Location, Food_Type, Meal_Type)\n",
    "VALUES(1001, \"Vegetable Pack\", 15, \"2025-08-20\", 1, \"Restaurant\", \"Pune\", \"Vegetables\", \"Dinner\")\n",
    "''')\n",
    "conn.commit()"
   ]
  },
  {
   "cell_type": "code",
   "execution_count": 32,
   "id": "9e5a5063",
   "metadata": {},
   "outputs": [
    {
     "data": {
      "text/html": [
       "<div>\n",
       "<style scoped>\n",
       "    .dataframe tbody tr th:only-of-type {\n",
       "        vertical-align: middle;\n",
       "    }\n",
       "\n",
       "    .dataframe tbody tr th {\n",
       "        vertical-align: top;\n",
       "    }\n",
       "\n",
       "    .dataframe thead th {\n",
       "        text-align: right;\n",
       "    }\n",
       "</style>\n",
       "<table border=\"1\" class=\"dataframe\">\n",
       "  <thead>\n",
       "    <tr style=\"text-align: right;\">\n",
       "      <th></th>\n",
       "      <th>Food_ID</th>\n",
       "      <th>Food_Name</th>\n",
       "      <th>Quantity</th>\n",
       "      <th>Expiry_Date</th>\n",
       "      <th>Provider_ID</th>\n",
       "      <th>Provider_Type</th>\n",
       "      <th>Location</th>\n",
       "      <th>Food_Type</th>\n",
       "      <th>Meal_Type</th>\n",
       "    </tr>\n",
       "  </thead>\n",
       "  <tbody>\n",
       "    <tr>\n",
       "      <th>0</th>\n",
       "      <td>1001</td>\n",
       "      <td>Vegetable Pack</td>\n",
       "      <td>15</td>\n",
       "      <td>2025-08-20</td>\n",
       "      <td>1</td>\n",
       "      <td>Restaurant</td>\n",
       "      <td>Pune</td>\n",
       "      <td>Vegetables</td>\n",
       "      <td>Dinner</td>\n",
       "    </tr>\n",
       "  </tbody>\n",
       "</table>\n",
       "</div>"
      ],
      "text/plain": [
       "   Food_ID       Food_Name  Quantity Expiry_Date  Provider_ID Provider_Type  \\\n",
       "0     1001  Vegetable Pack        15  2025-08-20            1    Restaurant   \n",
       "\n",
       "  Location   Food_Type Meal_Type  \n",
       "0     Pune  Vegetables    Dinner  "
      ]
     },
     "execution_count": 32,
     "metadata": {},
     "output_type": "execute_result"
    }
   ],
   "source": [
    "run_query(\"Select * FROM Food_listing WHERE Food_ID = 1001\")"
   ]
  },
  {
   "cell_type": "markdown",
   "id": "af9404dd",
   "metadata": {},
   "source": [
    "### UPDATE"
   ]
  },
  {
   "cell_type": "code",
   "execution_count": 36,
   "id": "9802efd9",
   "metadata": {},
   "outputs": [
    {
     "name": "stdout",
     "output_type": "stream",
     "text": [
      "Claim status updated successfully!\n"
     ]
    }
   ],
   "source": [
    "# UPDATE a claim status(in claim_id=4 Status was \"cancelled\" and here i update with \"completed\")\n",
    "conn.execute(\"UPDATE claims SET Status = 'completed' WHERE Claim_ID=4\")\n",
    "conn.commit()\n",
    "print(\"Claim status updated successfully!\")            "
   ]
  },
  {
   "cell_type": "code",
   "execution_count": 37,
   "id": "74bb0af2",
   "metadata": {},
   "outputs": [
    {
     "data": {
      "text/html": [
       "<div>\n",
       "<style scoped>\n",
       "    .dataframe tbody tr th:only-of-type {\n",
       "        vertical-align: middle;\n",
       "    }\n",
       "\n",
       "    .dataframe tbody tr th {\n",
       "        vertical-align: top;\n",
       "    }\n",
       "\n",
       "    .dataframe thead th {\n",
       "        text-align: right;\n",
       "    }\n",
       "</style>\n",
       "<table border=\"1\" class=\"dataframe\">\n",
       "  <thead>\n",
       "    <tr style=\"text-align: right;\">\n",
       "      <th></th>\n",
       "      <th>Claim_ID</th>\n",
       "      <th>Food_ID</th>\n",
       "      <th>Receiver_ID</th>\n",
       "      <th>Status</th>\n",
       "      <th>Timestamp</th>\n",
       "    </tr>\n",
       "  </thead>\n",
       "  <tbody>\n",
       "    <tr>\n",
       "      <th>0</th>\n",
       "      <td>4</td>\n",
       "      <td>61</td>\n",
       "      <td>933</td>\n",
       "      <td>completed</td>\n",
       "      <td>2025-03-04 09:08:00</td>\n",
       "    </tr>\n",
       "  </tbody>\n",
       "</table>\n",
       "</div>"
      ],
      "text/plain": [
       "   Claim_ID  Food_ID  Receiver_ID     Status            Timestamp\n",
       "0         4       61          933  completed  2025-03-04 09:08:00"
      ]
     },
     "execution_count": 37,
     "metadata": {},
     "output_type": "execute_result"
    }
   ],
   "source": [
    "run_query(\"SELECT * FROM claims WHERE Claim_ID=4\")"
   ]
  },
  {
   "cell_type": "markdown",
   "id": "f8d20ecd",
   "metadata": {},
   "source": [
    "###  DELETE"
   ]
  },
  {
   "cell_type": "code",
   "execution_count": 38,
   "id": "b83939c3",
   "metadata": {},
   "outputs": [
    {
     "name": "stdout",
     "output_type": "stream",
     "text": [
      "Test food listing deleted successfully!\n"
     ]
    }
   ],
   "source": [
    "# DELETE a test listing for cleanup\n",
    "conn.execute(\"DELETE FROM food_listing WHERE Food_ID = 1001\")\n",
    "conn.commit()\n",
    "print(\"Test food listing deleted successfully!\")"
   ]
  },
  {
   "cell_type": "code",
   "execution_count": 41,
   "id": "30ffcce3",
   "metadata": {},
   "outputs": [
    {
     "data": {
      "text/html": [
       "<div>\n",
       "<style scoped>\n",
       "    .dataframe tbody tr th:only-of-type {\n",
       "        vertical-align: middle;\n",
       "    }\n",
       "\n",
       "    .dataframe tbody tr th {\n",
       "        vertical-align: top;\n",
       "    }\n",
       "\n",
       "    .dataframe thead th {\n",
       "        text-align: right;\n",
       "    }\n",
       "</style>\n",
       "<table border=\"1\" class=\"dataframe\">\n",
       "  <thead>\n",
       "    <tr style=\"text-align: right;\">\n",
       "      <th></th>\n",
       "      <th>Food_ID</th>\n",
       "      <th>Food_Name</th>\n",
       "      <th>Quantity</th>\n",
       "      <th>Expiry_Date</th>\n",
       "      <th>Provider_ID</th>\n",
       "      <th>Provider_Type</th>\n",
       "      <th>Location</th>\n",
       "      <th>Food_Type</th>\n",
       "      <th>Meal_Type</th>\n",
       "    </tr>\n",
       "  </thead>\n",
       "  <tbody>\n",
       "  </tbody>\n",
       "</table>\n",
       "</div>"
      ],
      "text/plain": [
       "Empty DataFrame\n",
       "Columns: [Food_ID, Food_Name, Quantity, Expiry_Date, Provider_ID, Provider_Type, Location, Food_Type, Meal_Type]\n",
       "Index: []"
      ]
     },
     "execution_count": 41,
     "metadata": {},
     "output_type": "execute_result"
    }
   ],
   "source": [
    "run_query(\"SELECT * FROM food_listing WHERE Food_ID = 1001\")"
   ]
  },
  {
   "cell_type": "markdown",
   "id": "8f860572",
   "metadata": {},
   "source": [
    "## EDA and Visualization"
   ]
  },
  {
   "cell_type": "code",
   "execution_count": 44,
   "id": "ed5cd083",
   "metadata": {},
   "outputs": [
    {
     "data": {
      "image/png": "[encoded data removed]",
      "text/plain": [
       "<Figure size 500x400 with 1 Axes>"
      ]
     },
     "metadata": {},
     "output_type": "display_data"
    }
   ],
   "source": [
    "# Food type distribution(Bar Chart)\n",
    "food_counts = run_query(\"\"\"\n",
    "SELECT Food_Type, COUNT(*) as Listings\n",
    "FROM food_listing\n",
    "GROUP BY Food_Type\n",
    "ORDER BY Listings DESC\n",
    "\"\"\")\n",
    "\n",
    "plt.figure(figsize=(5,4))\n",
    "plt.bar(food_counts[\"Food_Type\"], food_counts[\"Listings\"])\n",
    "plt.xticks(rotation=45)\n",
    "plt.title(\"Foog Type Distribution\")\n",
    "plt.show()"
   ]
  },
  {
   "cell_type": "markdown",
   "id": "acc23d57",
   "metadata": {},
   "source": [
    "* Why use?\n",
    "1. Bar chart compares number of listing by food type"
   ]
  },
  {
   "cell_type": "code",
   "execution_count": 46,
   "id": "703dd8f0",
   "metadata": {},
   "outputs": [
    {
     "data": {
      "image/png": "[encoded data removed]",
      "text/plain": [
       "<Figure size 600x600 with 1 Axes>"
      ]
     },
     "metadata": {},
     "output_type": "display_data"
    }
   ],
   "source": [
    "# Claim status distribution (pie chart)\n",
    "status = run_query(\"\"\" \n",
    "SELECT Status, COUNT(*) as Count\n",
    "FROM claims\n",
    "GROUP BY Status\n",
    "\"\"\")\n",
    "\n",
    "plt.figure(figsize=(6,6))\n",
    "plt.pie(status[\"Count\"], labels=status[\"Status\"], autopct=\"%1.1f%%\")\n",
    "plt.title(\"Claim Status Distribution\")\n",
    "plt.show()"
   ]
  },
  {
   "cell_type": "markdown",
   "id": "855b57d8",
   "metadata": {},
   "source": [
    "* Why use?\n",
    "1. Pie chart shows claim status percentages (completed vs pending vs cancelled)"
   ]
  },
  {
   "cell_type": "markdown",
   "id": "ec964545",
   "metadata": {},
   "source": [
    "#  For Run Streamlit app\n"
   ]
  },
  {
   "cell_type": "markdown",
   "id": "b4aa4e73",
   "metadata": {},
   "source": [
    "#### Open Anaconda powershell prompt in that run\n",
    "#### cd C:\\Users\\user\\OneDrive\\Desktop\\Food_Project\n",
    "#### streamlit run app1.py"
   ]
  }
 ],
 "metadata": {
  "kernelspec": {
   "display_name": "Python 3 (ipykernel)",
   "language": "python",
   "name": "python3"
  },
  "language_info": {
   "codemirror_mode": {
    "name": "ipython",
    "version": 3
   },
   "file_extension": ".py",
   "mimetype": "text/x-python",
   "name": "python",
   "nbconvert_exporter": "python",
   "pygments_lexer": "ipython3",
   "version": "3.9.13"
  }
 },
 "nbformat": 4,
 "nbformat_minor": 5
}
